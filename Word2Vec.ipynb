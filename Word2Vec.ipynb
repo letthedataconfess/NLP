{
 "cells": [
  {
   "cell_type": "markdown",
   "metadata": {},
   "source": [
    "## Installation:\n",
    " \n",
    " pip install -U gensim"
   ]
  },
  {
   "cell_type": "code",
   "execution_count": 2,
   "metadata": {},
   "outputs": [
    {
     "name": "stdout",
     "output_type": "stream",
     "text": [
      "Collecting gensim\n",
      "  Downloading https://files.pythonhosted.org/packages/3a/bc/1415be59292a23ff123298b4b46ec4be80b3bfe72c8d188b58ab2653dee4/gensim-3.8.0.tar.gz (23.4MB)\n",
      "Requirement already satisfied, skipping upgrade: numpy>=1.11.3 in c:\\users\\arpita.c.gupta\\appdata\\local\\continuum\\anaconda3\\lib\\site-packages (from gensim) (1.16.3)\n",
      "Requirement already satisfied, skipping upgrade: scipy>=0.18.1 in c:\\users\\arpita.c.gupta\\appdata\\local\\continuum\\anaconda3\\lib\\site-packages (from gensim) (1.1.0)\n",
      "Requirement already satisfied, skipping upgrade: six>=1.5.0 in c:\\users\\arpita.c.gupta\\appdata\\local\\continuum\\anaconda3\\lib\\site-packages (from gensim) (1.12.0)\n",
      "Collecting smart_open>=1.7.0 (from gensim)\n",
      "  Downloading https://files.pythonhosted.org/packages/37/c0/25d19badc495428dec6a4bf7782de617ee0246a9211af75b302a2681dea7/smart_open-1.8.4.tar.gz (63kB)\n",
      "Requirement already satisfied, skipping upgrade: boto>=2.32 in c:\\users\\arpita.c.gupta\\appdata\\local\\continuum\\anaconda3\\lib\\site-packages (from smart_open>=1.7.0->gensim) (2.49.0)\n",
      "Requirement already satisfied, skipping upgrade: requests in c:\\users\\arpita.c.gupta\\appdata\\local\\continuum\\anaconda3\\lib\\site-packages (from smart_open>=1.7.0->gensim) (2.18.4)\n",
      "Collecting boto3 (from smart_open>=1.7.0->gensim)\n",
      "  Downloading https://files.pythonhosted.org/packages/72/1a/97ca7494fd268835f2d2ea2c6b6ea3b7cfe271f22c2adb1ef45cf007d7f3/boto3-1.9.199-py2.py3-none-any.whl (128kB)\n",
      "Requirement already satisfied, skipping upgrade: certifi>=2017.4.17 in c:\\users\\arpita.c.gupta\\appdata\\local\\continuum\\anaconda3\\lib\\site-packages (from requests->smart_open>=1.7.0->gensim) (2018.11.29)\n",
      "Requirement already satisfied, skipping upgrade: chardet<3.1.0,>=3.0.2 in c:\\users\\arpita.c.gupta\\appdata\\local\\continuum\\anaconda3\\lib\\site-packages (from requests->smart_open>=1.7.0->gensim) (3.0.4)\n",
      "Requirement already satisfied, skipping upgrade: idna<2.7,>=2.5 in c:\\users\\arpita.c.gupta\\appdata\\local\\continuum\\anaconda3\\lib\\site-packages (from requests->smart_open>=1.7.0->gensim) (2.6)\n",
      "Requirement already satisfied, skipping upgrade: urllib3<1.23,>=1.21.1 in c:\\users\\arpita.c.gupta\\appdata\\local\\continuum\\anaconda3\\lib\\site-packages (from requests->smart_open>=1.7.0->gensim) (1.22)\n",
      "Collecting jmespath<1.0.0,>=0.7.1 (from boto3->smart_open>=1.7.0->gensim)\n",
      "  Downloading https://files.pythonhosted.org/packages/83/94/7179c3832a6d45b266ddb2aac329e101367fbdb11f425f13771d27f225bb/jmespath-0.9.4-py2.py3-none-any.whl\n",
      "Collecting s3transfer<0.3.0,>=0.2.0 (from boto3->smart_open>=1.7.0->gensim)\n",
      "  Downloading https://files.pythonhosted.org/packages/16/8a/1fc3dba0c4923c2a76e1ff0d52b305c44606da63f718d14d3231e21c51b0/s3transfer-0.2.1-py2.py3-none-any.whl (70kB)\n",
      "Collecting botocore<1.13.0,>=1.12.199 (from boto3->smart_open>=1.7.0->gensim)\n",
      "  Downloading https://files.pythonhosted.org/packages/50/f8/dbe656ee191c2d8b471a86fa07f0d37515611d865deaa034fc2b71dd71e4/botocore-1.12.199-py2.py3-none-any.whl (5.6MB)\n",
      "Requirement already satisfied, skipping upgrade: docutils<0.15,>=0.10 in c:\\users\\arpita.c.gupta\\appdata\\local\\continuum\\anaconda3\\lib\\site-packages (from botocore<1.13.0,>=1.12.199->boto3->smart_open>=1.7.0->gensim) (0.14)\n",
      "Requirement already satisfied, skipping upgrade: python-dateutil<3.0.0,>=2.1; python_version >= \"2.7\" in c:\\users\\arpita.c.gupta\\appdata\\local\\continuum\\anaconda3\\lib\\site-packages (from botocore<1.13.0,>=1.12.199->boto3->smart_open>=1.7.0->gensim) (2.7.5)\n",
      "Building wheels for collected packages: gensim, smart-open\n",
      "  Running setup.py bdist_wheel for gensim: started\n",
      "  Running setup.py bdist_wheel for gensim: still running...\n",
      "  Running setup.py bdist_wheel for gensim: still running...\n",
      "  Running setup.py bdist_wheel for gensim: finished with status 'done'\n",
      "  Stored in directory: C:\\Users\\arpita.c.gupta\\AppData\\Local\\pip\\Cache\\wheels\\2c\\19\\c6\\bf38e867cb6e75999e3ff80302eb27bdf488b333efadfbfed7\n",
      "  Running setup.py bdist_wheel for smart-open: started\n",
      "  Running setup.py bdist_wheel for smart-open: finished with status 'done'\n",
      "  Stored in directory: C:\\Users\\arpita.c.gupta\\AppData\\Local\\pip\\Cache\\wheels\\5f\\ea\\fb\\5b1a947b369724063b2617011f1540c44eb00e28c3d2ca8692\n",
      "Successfully built gensim smart-open\n",
      "Installing collected packages: jmespath, botocore, s3transfer, boto3, smart-open, gensim\n",
      "Successfully installed boto3-1.9.199 botocore-1.12.199 gensim-3.8.0 jmespath-0.9.4 s3transfer-0.2.1 smart-open-1.8.4\n",
      "Could not fetch URL https://pypi.org/simple/pip/: There was a problem confirming the ssl certificate: HTTPSConnectionPool(host='pypi.org', port=443): Max retries exceeded with url: /simple/pip/ (Caused by SSLError(SSLCertVerificationError(1, '[SSL: CERTIFICATE_VERIFY_FAILED] certificate verify failed: self signed certificate in certificate chain (_ssl.c:1051)'))) - skipping\n"
     ]
    }
   ],
   "source": [
    "!pip install -U gensim"
   ]
  },
  {
   "cell_type": "markdown",
   "metadata": {},
   "source": [
    "## Semantic Review:"
   ]
  },
  {
   "cell_type": "code",
   "execution_count": 4,
   "metadata": {},
   "outputs": [],
   "source": [
    "from nltk.tokenize import sent_tokenize\n",
    "from nltk.tokenize import word_tokenize\n",
    "from nltk.corpus import stopwords\n",
    "from nltk.stem import WordNetLemmatizer\n",
    "import string\n",
    "import warnings\n",
    "warnings.filterwarnings(action='ignore', category=UserWarning, module='gensim')\n",
    "from gensim.models import Word2Vec"
   ]
  },
  {
   "cell_type": "code",
   "execution_count": 11,
   "metadata": {},
   "outputs": [
    {
     "name": "stderr",
     "output_type": "stream",
     "text": [
      "[nltk_data] Downloading package brown to\n",
      "[nltk_data]     C:\\Users\\arpita.c.gupta\\AppData\\Roaming\\nltk_data...\n",
      "[nltk_data]   Package brown is already up-to-date!\n",
      "[nltk_data] Downloading package movie_reviews to\n",
      "[nltk_data]     C:\\Users\\arpita.c.gupta\\AppData\\Roaming\\nltk_data...\n",
      "[nltk_data]   Package movie_reviews is already up-to-date!\n",
      "[nltk_data] Downloading package treebank to\n",
      "[nltk_data]     C:\\Users\\arpita.c.gupta\\AppData\\Roaming\\nltk_data...\n",
      "[nltk_data]   Unzipping corpora\\treebank.zip.\n"
     ]
    }
   ],
   "source": [
    "\n",
    "import nltk\n",
    "nltk.download('brown')\n",
    "nltk.download('movie_reviews')\n",
    "\n",
    "from nltk.corpus import brown, movie_reviews, treebank\n",
    "br = Word2Vec(brown.sents())\n",
    "mr = Word2Vec(movie_reviews.sents())\n",
    "tb = Word2Vec(treebank.sents())\n"
   ]
  },
  {
   "cell_type": "code",
   "execution_count": 12,
   "metadata": {},
   "outputs": [
    {
     "name": "stderr",
     "output_type": "stream",
     "text": [
      "C:\\Users\\arpita.c.gupta\\AppData\\Local\\Continuum\\anaconda3\\lib\\site-packages\\ipykernel_launcher.py:1: DeprecationWarning: Call to deprecated `most_similar` (Method will be removed in 4.0.0, use self.wv.most_similar() instead).\n",
      "  \"\"\"Entry point for launching an IPython kernel.\n"
     ]
    },
    {
     "data": {
      "text/plain": [
       "[('care', 0.9175363779067993),\n",
       " ('job', 0.913578987121582),\n",
       " ('trouble', 0.9035550951957703),\n",
       " ('work', 0.8856322169303894),\n",
       " ('getting', 0.8815752267837524)]"
      ]
     },
     "execution_count": 12,
     "metadata": {},
     "output_type": "execute_result"
    }
   ],
   "source": [
    "br.most_similar('money', topn=5)"
   ]
  },
  {
   "cell_type": "code",
   "execution_count": 13,
   "metadata": {},
   "outputs": [
    {
     "name": "stderr",
     "output_type": "stream",
     "text": [
      "C:\\Users\\arpita.c.gupta\\AppData\\Local\\Continuum\\anaconda3\\lib\\site-packages\\ipykernel_launcher.py:1: DeprecationWarning: Call to deprecated `most_similar` (Method will be removed in 4.0.0, use self.wv.most_similar() instead).\n",
      "  \"\"\"Entry point for launching an IPython kernel.\n"
     ]
    },
    {
     "data": {
      "text/plain": [
       "[('home', 0.7520167827606201),\n",
       " ('him', 0.7516550421714783),\n",
       " ('chance', 0.7367970943450928),\n",
       " ('away', 0.7241283655166626),\n",
       " ('trouble', 0.722325325012207)]"
      ]
     },
     "execution_count": 13,
     "metadata": {},
     "output_type": "execute_result"
    }
   ],
   "source": [
    "mr.most_similar('money', topn=5)"
   ]
  },
  {
   "cell_type": "code",
   "execution_count": 14,
   "metadata": {},
   "outputs": [
    {
     "name": "stderr",
     "output_type": "stream",
     "text": [
      "C:\\Users\\arpita.c.gupta\\AppData\\Local\\Continuum\\anaconda3\\lib\\site-packages\\ipykernel_launcher.py:1: DeprecationWarning: Call to deprecated `most_similar` (Method will be removed in 4.0.0, use self.wv.most_similar() instead).\n",
      "  \"\"\"Entry point for launching an IPython kernel.\n"
     ]
    },
    {
     "data": {
      "text/plain": [
       "[('Treasury', 0.9998828768730164),\n",
       " ('only', 0.9998744130134583),\n",
       " ('make', 0.9998743534088135),\n",
       " ('years', 0.9998737573623657),\n",
       " ('into', 0.9998716115951538)]"
      ]
     },
     "execution_count": 14,
     "metadata": {},
     "output_type": "execute_result"
    }
   ],
   "source": [
    "tb.most_similar('money', topn=5)"
   ]
  },
  {
   "cell_type": "markdown",
   "metadata": {},
   "source": [
    "## Example with your own dataset"
   ]
  },
  {
   "cell_type": "code",
   "execution_count": 17,
   "metadata": {},
   "outputs": [
    {
     "data": {
      "text/plain": [
       "\"The European Organization for Nuclear Research, is a European research organization that operates the largest particle physics laboratory in the world. Established in 1954, the organization is based in a northwest suburb of Geneva on the Franco–Swiss border and has 22 member states. Israel is the only non-European country granted full membership. CERN is an official United Nations Observer.\\n\\nThe term CERN is also used to refer to the laboratory, which in 2016 had 2,500 scientific, technical, and administrative staff members, and hosted about 12,000 users. In the same year, CERN generated 49 petabytes of data.\\n\\nCERN's main function is to provide the particle accelerators and other infrastructure needed for high-energy physics research – as a result, numerous experiments have been constructed at CERN through international collaborations. The main site at Meyrin hosts a large computing facility, which is primarily used to store and analyse data from experiments, as well as simulate events. Researchers need remote access to these facilities, so the lab has historically been a major wide area network hub. CERN is also the birthplace of the World Wide Web.\\n\\nThe World Wide Web began as a CERN project named ENQUIRE, initiated by Tim Berners-Lee in 1989 and Robert Cailliau in 1990. Berners-Lee and Cailliau were jointly honoured by the Association for Computing Machinery in 1995 for their contributions to the development of the World Wide Web.\\n\\nBased on the concept of hypertext, the project was intended to facilitate the sharing of information between researchers. The first website was activated in 1991. On 30 April 1993, CERN announced that the World Wide Web would be free to anyone. A copy of the original first webpage, created by Berners-Lee, is still published on the World Wide Web Consortium's website as a historical document.\\n\\nPrior to the Web's development, CERN had pioneered the introduction of Internet technology, beginning in the early 1980s.\\n\\nMore recently, CERN has become a facility for the development of grid computing, hosting projects including the Enabling Grids for E-sciencE (EGEE) and LHC Computing Grid. It also hosts the CERN Internet Exchange Point (CIXP), one of the two main internet exchange points in Switzerland.\""
      ]
     },
     "execution_count": 17,
     "metadata": {},
     "output_type": "execute_result"
    }
   ],
   "source": [
    "text = open('cern.txt').read()\n",
    "text"
   ]
  },
  {
   "cell_type": "code",
   "execution_count": 18,
   "metadata": {},
   "outputs": [],
   "source": [
    "def preprocessing(text):\n",
    "    result = []\n",
    "    sent = sent_tokenize(text)\n",
    "    for sentence in sent:\n",
    "        words = word_tokenize(sentence)\n",
    "        tokens = [w for w in words if w.lower() not in string.punctuation]\n",
    "        stopw = stopwords.words('english')\n",
    "        tokens = [token for token in tokens if token not in stopw]\n",
    "    # remove words less than three letters\n",
    "        tokens = [word for word in tokens if len(word)>=3]\n",
    "    # lemmatize\n",
    "        lemma = WordNetLemmatizer()\n",
    "        tokens = [lemma.lemmatize(word) for word in tokens]\n",
    "        result += [tokens] \n",
    "    return result "
   ]
  },
  {
   "cell_type": "code",
   "execution_count": 19,
   "metadata": {},
   "outputs": [
    {
     "data": {
      "text/plain": [
       "[['The',\n",
       "  'European',\n",
       "  'Organization',\n",
       "  'Nuclear',\n",
       "  'Research',\n",
       "  'European',\n",
       "  'research',\n",
       "  'organization',\n",
       "  'operates',\n",
       "  'largest',\n",
       "  'particle',\n",
       "  'physic',\n",
       "  'laboratory',\n",
       "  'world'],\n",
       " ['Established',\n",
       "  '1954',\n",
       "  'organization',\n",
       "  'based',\n",
       "  'northwest',\n",
       "  'suburb',\n",
       "  'Geneva',\n",
       "  'Franco–Swiss',\n",
       "  'border',\n",
       "  'member',\n",
       "  'state'],\n",
       " ['Israel', 'non-European', 'country', 'granted', 'full', 'membership'],\n",
       " ['CERN', 'official', 'United', 'Nations', 'Observer'],\n",
       " ['The',\n",
       "  'term',\n",
       "  'CERN',\n",
       "  'also',\n",
       "  'used',\n",
       "  'refer',\n",
       "  'laboratory',\n",
       "  '2016',\n",
       "  '2,500',\n",
       "  'scientific',\n",
       "  'technical',\n",
       "  'administrative',\n",
       "  'staff',\n",
       "  'member',\n",
       "  'hosted',\n",
       "  '12,000',\n",
       "  'user'],\n",
       " ['year', 'CERN', 'generated', 'petabyte', 'data'],\n",
       " ['CERN',\n",
       "  'main',\n",
       "  'function',\n",
       "  'provide',\n",
       "  'particle',\n",
       "  'accelerator',\n",
       "  'infrastructure',\n",
       "  'needed',\n",
       "  'high-energy',\n",
       "  'physic',\n",
       "  'research',\n",
       "  'result',\n",
       "  'numerous',\n",
       "  'experiment',\n",
       "  'constructed',\n",
       "  'CERN',\n",
       "  'international',\n",
       "  'collaboration'],\n",
       " ['The',\n",
       "  'main',\n",
       "  'site',\n",
       "  'Meyrin',\n",
       "  'host',\n",
       "  'large',\n",
       "  'computing',\n",
       "  'facility',\n",
       "  'primarily',\n",
       "  'used',\n",
       "  'store',\n",
       "  'analyse',\n",
       "  'data',\n",
       "  'experiment',\n",
       "  'well',\n",
       "  'simulate',\n",
       "  'event'],\n",
       " ['Researchers',\n",
       "  'need',\n",
       "  'remote',\n",
       "  'access',\n",
       "  'facility',\n",
       "  'lab',\n",
       "  'historically',\n",
       "  'major',\n",
       "  'wide',\n",
       "  'area',\n",
       "  'network',\n",
       "  'hub'],\n",
       " ['CERN', 'also', 'birthplace', 'World', 'Wide', 'Web'],\n",
       " ['The',\n",
       "  'World',\n",
       "  'Wide',\n",
       "  'Web',\n",
       "  'began',\n",
       "  'CERN',\n",
       "  'project',\n",
       "  'named',\n",
       "  'ENQUIRE',\n",
       "  'initiated',\n",
       "  'Tim',\n",
       "  'Berners-Lee',\n",
       "  '1989',\n",
       "  'Robert',\n",
       "  'Cailliau',\n",
       "  '1990'],\n",
       " ['Berners-Lee',\n",
       "  'Cailliau',\n",
       "  'jointly',\n",
       "  'honoured',\n",
       "  'Association',\n",
       "  'Computing',\n",
       "  'Machinery',\n",
       "  '1995',\n",
       "  'contribution',\n",
       "  'development',\n",
       "  'World',\n",
       "  'Wide',\n",
       "  'Web'],\n",
       " ['Based',\n",
       "  'concept',\n",
       "  'hypertext',\n",
       "  'project',\n",
       "  'intended',\n",
       "  'facilitate',\n",
       "  'sharing',\n",
       "  'information',\n",
       "  'researcher'],\n",
       " ['The', 'first', 'website', 'activated', '1991'],\n",
       " ['April',\n",
       "  '1993',\n",
       "  'CERN',\n",
       "  'announced',\n",
       "  'World',\n",
       "  'Wide',\n",
       "  'Web',\n",
       "  'would',\n",
       "  'free',\n",
       "  'anyone'],\n",
       " ['copy',\n",
       "  'original',\n",
       "  'first',\n",
       "  'webpage',\n",
       "  'created',\n",
       "  'Berners-Lee',\n",
       "  'still',\n",
       "  'published',\n",
       "  'World',\n",
       "  'Wide',\n",
       "  'Web',\n",
       "  'Consortium',\n",
       "  'website',\n",
       "  'historical',\n",
       "  'document'],\n",
       " ['Prior',\n",
       "  'Web',\n",
       "  'development',\n",
       "  'CERN',\n",
       "  'pioneered',\n",
       "  'introduction',\n",
       "  'Internet',\n",
       "  'technology',\n",
       "  'beginning',\n",
       "  'early',\n",
       "  '1980s'],\n",
       " ['More',\n",
       "  'recently',\n",
       "  'CERN',\n",
       "  'become',\n",
       "  'facility',\n",
       "  'development',\n",
       "  'grid',\n",
       "  'computing',\n",
       "  'hosting',\n",
       "  'project',\n",
       "  'including',\n",
       "  'Enabling',\n",
       "  'Grids',\n",
       "  'E-sciencE',\n",
       "  'EGEE',\n",
       "  'LHC',\n",
       "  'Computing',\n",
       "  'Grid'],\n",
       " ['also',\n",
       "  'host',\n",
       "  'CERN',\n",
       "  'Internet',\n",
       "  'Exchange',\n",
       "  'Point',\n",
       "  'CIXP',\n",
       "  'one',\n",
       "  'two',\n",
       "  'main',\n",
       "  'internet',\n",
       "  'exchange',\n",
       "  'point',\n",
       "  'Switzerland']]"
      ]
     },
     "execution_count": 19,
     "metadata": {},
     "output_type": "execute_result"
    }
   ],
   "source": [
    "text_p = preprocessing(text)\n",
    "text_p"
   ]
  },
  {
   "cell_type": "code",
   "execution_count": 22,
   "metadata": {},
   "outputs": [],
   "source": [
    "# size – Denotes the number of dimensions present in the vectorial forms.\n",
    "# If you have read the document and have an idea of how many ‘topics’ it has, you can use that number\n",
    "# sg = 0 for CBOW model and 1 for skip-gram model\n",
    "# min_count: Ignore all words with total frequency lower than this\n",
    "# window: the maximum distance between the current and predicted word within\n",
    "# a sentence.\n",
    "model = Word2Vec(text_p, min_count=1, sg=1, window =3)"
   ]
  },
  {
   "cell_type": "code",
   "execution_count": 23,
   "metadata": {},
   "outputs": [
    {
     "ename": "KeyError",
     "evalue": "\"word 'book' not in vocabulary\"",
     "output_type": "error",
     "traceback": [
      "\u001b[1;31m---------------------------------------------------------------------------\u001b[0m",
      "\u001b[1;31mKeyError\u001b[0m                                  Traceback (most recent call last)",
      "\u001b[1;32m<ipython-input-23-12382e536b9d>\u001b[0m in \u001b[0;36m<module>\u001b[1;34m\u001b[0m\n\u001b[1;32m----> 1\u001b[1;33m \u001b[0mmodel\u001b[0m\u001b[1;33m.\u001b[0m\u001b[0mwv\u001b[0m\u001b[1;33m.\u001b[0m\u001b[0msimilarity\u001b[0m\u001b[1;33m(\u001b[0m\u001b[1;34m'book'\u001b[0m\u001b[1;33m,\u001b[0m \u001b[1;34m'invention'\u001b[0m\u001b[1;33m)\u001b[0m\u001b[1;33m\u001b[0m\u001b[1;33m\u001b[0m\u001b[0m\n\u001b[0m",
      "\u001b[1;32m~\\AppData\\Local\\Continuum\\anaconda3\\lib\\site-packages\\gensim\\models\\keyedvectors.py\u001b[0m in \u001b[0;36msimilarity\u001b[1;34m(self, w1, w2)\u001b[0m\n\u001b[0;32m    972\u001b[0m \u001b[1;33m\u001b[0m\u001b[0m\n\u001b[0;32m    973\u001b[0m         \"\"\"\n\u001b[1;32m--> 974\u001b[1;33m         \u001b[1;32mreturn\u001b[0m \u001b[0mdot\u001b[0m\u001b[1;33m(\u001b[0m\u001b[0mmatutils\u001b[0m\u001b[1;33m.\u001b[0m\u001b[0munitvec\u001b[0m\u001b[1;33m(\u001b[0m\u001b[0mself\u001b[0m\u001b[1;33m[\u001b[0m\u001b[0mw1\u001b[0m\u001b[1;33m]\u001b[0m\u001b[1;33m)\u001b[0m\u001b[1;33m,\u001b[0m \u001b[0mmatutils\u001b[0m\u001b[1;33m.\u001b[0m\u001b[0munitvec\u001b[0m\u001b[1;33m(\u001b[0m\u001b[0mself\u001b[0m\u001b[1;33m[\u001b[0m\u001b[0mw2\u001b[0m\u001b[1;33m]\u001b[0m\u001b[1;33m)\u001b[0m\u001b[1;33m)\u001b[0m\u001b[1;33m\u001b[0m\u001b[1;33m\u001b[0m\u001b[0m\n\u001b[0m\u001b[0;32m    975\u001b[0m \u001b[1;33m\u001b[0m\u001b[0m\n\u001b[0;32m    976\u001b[0m     \u001b[1;32mdef\u001b[0m \u001b[0mn_similarity\u001b[0m\u001b[1;33m(\u001b[0m\u001b[0mself\u001b[0m\u001b[1;33m,\u001b[0m \u001b[0mws1\u001b[0m\u001b[1;33m,\u001b[0m \u001b[0mws2\u001b[0m\u001b[1;33m)\u001b[0m\u001b[1;33m:\u001b[0m\u001b[1;33m\u001b[0m\u001b[1;33m\u001b[0m\u001b[0m\n",
      "\u001b[1;32m~\\AppData\\Local\\Continuum\\anaconda3\\lib\\site-packages\\gensim\\models\\keyedvectors.py\u001b[0m in \u001b[0;36m__getitem__\u001b[1;34m(self, entities)\u001b[0m\n\u001b[0;32m    351\u001b[0m         \u001b[1;32mif\u001b[0m \u001b[0misinstance\u001b[0m\u001b[1;33m(\u001b[0m\u001b[0mentities\u001b[0m\u001b[1;33m,\u001b[0m \u001b[0mstring_types\u001b[0m\u001b[1;33m)\u001b[0m\u001b[1;33m:\u001b[0m\u001b[1;33m\u001b[0m\u001b[1;33m\u001b[0m\u001b[0m\n\u001b[0;32m    352\u001b[0m             \u001b[1;31m# allow calls like trained_model['office'], as a shorthand for trained_model[['office']]\u001b[0m\u001b[1;33m\u001b[0m\u001b[1;33m\u001b[0m\u001b[1;33m\u001b[0m\u001b[0m\n\u001b[1;32m--> 353\u001b[1;33m             \u001b[1;32mreturn\u001b[0m \u001b[0mself\u001b[0m\u001b[1;33m.\u001b[0m\u001b[0mget_vector\u001b[0m\u001b[1;33m(\u001b[0m\u001b[0mentities\u001b[0m\u001b[1;33m)\u001b[0m\u001b[1;33m\u001b[0m\u001b[1;33m\u001b[0m\u001b[0m\n\u001b[0m\u001b[0;32m    354\u001b[0m \u001b[1;33m\u001b[0m\u001b[0m\n\u001b[0;32m    355\u001b[0m         \u001b[1;32mreturn\u001b[0m \u001b[0mvstack\u001b[0m\u001b[1;33m(\u001b[0m\u001b[1;33m[\u001b[0m\u001b[0mself\u001b[0m\u001b[1;33m.\u001b[0m\u001b[0mget_vector\u001b[0m\u001b[1;33m(\u001b[0m\u001b[0mentity\u001b[0m\u001b[1;33m)\u001b[0m \u001b[1;32mfor\u001b[0m \u001b[0mentity\u001b[0m \u001b[1;32min\u001b[0m \u001b[0mentities\u001b[0m\u001b[1;33m]\u001b[0m\u001b[1;33m)\u001b[0m\u001b[1;33m\u001b[0m\u001b[1;33m\u001b[0m\u001b[0m\n",
      "\u001b[1;32m~\\AppData\\Local\\Continuum\\anaconda3\\lib\\site-packages\\gensim\\models\\keyedvectors.py\u001b[0m in \u001b[0;36mget_vector\u001b[1;34m(self, word)\u001b[0m\n\u001b[0;32m    469\u001b[0m \u001b[1;33m\u001b[0m\u001b[0m\n\u001b[0;32m    470\u001b[0m     \u001b[1;32mdef\u001b[0m \u001b[0mget_vector\u001b[0m\u001b[1;33m(\u001b[0m\u001b[0mself\u001b[0m\u001b[1;33m,\u001b[0m \u001b[0mword\u001b[0m\u001b[1;33m)\u001b[0m\u001b[1;33m:\u001b[0m\u001b[1;33m\u001b[0m\u001b[1;33m\u001b[0m\u001b[0m\n\u001b[1;32m--> 471\u001b[1;33m         \u001b[1;32mreturn\u001b[0m \u001b[0mself\u001b[0m\u001b[1;33m.\u001b[0m\u001b[0mword_vec\u001b[0m\u001b[1;33m(\u001b[0m\u001b[0mword\u001b[0m\u001b[1;33m)\u001b[0m\u001b[1;33m\u001b[0m\u001b[1;33m\u001b[0m\u001b[0m\n\u001b[0m\u001b[0;32m    472\u001b[0m \u001b[1;33m\u001b[0m\u001b[0m\n\u001b[0;32m    473\u001b[0m     \u001b[1;32mdef\u001b[0m \u001b[0mwords_closer_than\u001b[0m\u001b[1;33m(\u001b[0m\u001b[0mself\u001b[0m\u001b[1;33m,\u001b[0m \u001b[0mw1\u001b[0m\u001b[1;33m,\u001b[0m \u001b[0mw2\u001b[0m\u001b[1;33m)\u001b[0m\u001b[1;33m:\u001b[0m\u001b[1;33m\u001b[0m\u001b[1;33m\u001b[0m\u001b[0m\n",
      "\u001b[1;32m~\\AppData\\Local\\Continuum\\anaconda3\\lib\\site-packages\\gensim\\models\\keyedvectors.py\u001b[0m in \u001b[0;36mword_vec\u001b[1;34m(self, word, use_norm)\u001b[0m\n\u001b[0;32m    466\u001b[0m             \u001b[1;32mreturn\u001b[0m \u001b[0mresult\u001b[0m\u001b[1;33m\u001b[0m\u001b[1;33m\u001b[0m\u001b[0m\n\u001b[0;32m    467\u001b[0m         \u001b[1;32melse\u001b[0m\u001b[1;33m:\u001b[0m\u001b[1;33m\u001b[0m\u001b[1;33m\u001b[0m\u001b[0m\n\u001b[1;32m--> 468\u001b[1;33m             \u001b[1;32mraise\u001b[0m \u001b[0mKeyError\u001b[0m\u001b[1;33m(\u001b[0m\u001b[1;34m\"word '%s' not in vocabulary\"\u001b[0m \u001b[1;33m%\u001b[0m \u001b[0mword\u001b[0m\u001b[1;33m)\u001b[0m\u001b[1;33m\u001b[0m\u001b[1;33m\u001b[0m\u001b[0m\n\u001b[0m\u001b[0;32m    469\u001b[0m \u001b[1;33m\u001b[0m\u001b[0m\n\u001b[0;32m    470\u001b[0m     \u001b[1;32mdef\u001b[0m \u001b[0mget_vector\u001b[0m\u001b[1;33m(\u001b[0m\u001b[0mself\u001b[0m\u001b[1;33m,\u001b[0m \u001b[0mword\u001b[0m\u001b[1;33m)\u001b[0m\u001b[1;33m:\u001b[0m\u001b[1;33m\u001b[0m\u001b[1;33m\u001b[0m\u001b[0m\n",
      "\u001b[1;31mKeyError\u001b[0m: \"word 'book' not in vocabulary\""
     ]
    }
   ],
   "source": [
    "model.wv.similarity('book', 'invention')"
   ]
  },
  {
   "cell_type": "code",
   "execution_count": 16,
   "metadata": {
    "collapsed": true
   },
   "outputs": [],
   "source": [
    "# The word vectors are stored in a KeyedVectors instance in model.wv. \n",
    "#This separates the read-only word vector lookup operations in KeyedVectors from the training code in Word2Vec"
   ]
  },
  {
   "cell_type": "code",
   "execution_count": 17,
   "metadata": {},
   "outputs": [
    {
     "data": {
      "text/plain": [
       "array([  7.59162125e-04,   4.29326249e-03,  -9.71433328e-05,\n",
       "        -3.20858392e-03,  -3.46057955e-03,   3.74793983e-03,\n",
       "        -2.36706066e-04,  -3.33619164e-03,   3.95034067e-03,\n",
       "        -2.31293985e-03,  -3.11416341e-03,  -4.70685726e-03,\n",
       "         4.56498982e-03,   1.60547032e-03,  -3.38979880e-03,\n",
       "        -2.82609207e-03,  -6.20029925e-04,  -2.99799442e-03,\n",
       "         1.37722609e-03,   2.27040006e-03,   1.42021850e-03,\n",
       "        -1.87252893e-03,   1.67034648e-03,   3.54624644e-04,\n",
       "         2.31695129e-03,   3.62769421e-03,   8.82725755e-04,\n",
       "         1.96508481e-03,  -1.49710220e-04,  -3.42197577e-03,\n",
       "        -2.95500271e-03,   3.37115489e-03,  -3.13709420e-03,\n",
       "         2.82665761e-03,   4.54502506e-03,  -3.54530243e-03,\n",
       "        -1.64359424e-03,  -3.42609081e-03,  -1.89274127e-04,\n",
       "         3.13193491e-03,  -3.72925028e-03,   3.98579426e-03,\n",
       "        -3.81984690e-04,  -2.92612100e-03,   2.28097686e-03,\n",
       "         2.30092113e-03,  -9.59188328e-04,   4.68449993e-03,\n",
       "        -4.29685088e-03,  -6.35250122e-04,   8.15901672e-04,\n",
       "        -4.55384096e-03,   4.89573646e-03,   3.32676247e-03,\n",
       "        -3.35280667e-03,   1.85520481e-03,  -5.43203088e-04,\n",
       "         3.42123234e-03,  -1.94159034e-03,   4.85696597e-03,\n",
       "         3.45914485e-03,  -3.29687097e-03,   3.86176235e-03,\n",
       "        -4.03611455e-03,  -9.14758712e-04,  -1.37039681e-03,\n",
       "         4.57866630e-03,   4.33962420e-03,   1.53162226e-03,\n",
       "         4.92425682e-03,  -3.68711166e-03,  -2.17184919e-04,\n",
       "        -1.26468216e-03,  -5.41997491e-04,  -2.60882173e-03,\n",
       "        -4.03720792e-03,   2.29081698e-03,  -4.43385402e-03,\n",
       "         8.19277542e-04,   2.08725105e-03,   4.14379546e-03,\n",
       "         2.95131747e-03,   1.33626396e-03,   3.17586004e-04,\n",
       "         1.92224851e-03,   7.11223634e-04,   4.97777015e-03,\n",
       "        -1.17762107e-03,  -2.89207697e-03,  -1.38685619e-03,\n",
       "         4.82742413e-04,   3.51049681e-03,  -2.42982688e-03,\n",
       "         3.44012119e-03,  -1.18494465e-03,   1.24213728e-03,\n",
       "        -5.90082142e-04,  -4.75911982e-03,  -9.17836442e-04,\n",
       "         3.58297047e-03], dtype=float32)"
      ]
     },
     "execution_count": 17,
     "metadata": {},
     "output_type": "execute_result"
    }
   ],
   "source": [
    "# word vector: vectorial representation.\n",
    "model.wv['book']"
   ]
  },
  {
   "cell_type": "markdown",
   "metadata": {},
   "source": [
    "## Reference:\n",
    "\n",
    "https://radimrehurek.com/gensim/models/word2vec.html\n",
    "\n",
    "https://pypi.python.org/pypi/gensim\n",
    "\n",
    "https://radimrehurek.com/gensim/\n",
    "\n",
    "https://radimrehurek.com/gensim/models/word2vec.html#gensim.models.word2vec.Word2Vec"
   ]
  }
 ],
 "metadata": {
  "kernelspec": {
   "display_name": "Python 3",
   "language": "python",
   "name": "python3"
  },
  "language_info": {
   "codemirror_mode": {
    "name": "ipython",
    "version": 3
   },
   "file_extension": ".py",
   "mimetype": "text/x-python",
   "name": "python",
   "nbconvert_exporter": "python",
   "pygments_lexer": "ipython3",
   "version": "3.7.1"
  }
 },
 "nbformat": 4,
 "nbformat_minor": 2
}
